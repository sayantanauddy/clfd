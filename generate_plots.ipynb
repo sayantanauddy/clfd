{
 "cells": [
  {
   "cell_type": "code",
   "execution_count": null,
   "metadata": {},
   "outputs": [],
   "source": [
    "from imitation_cl.plot.cl_plots import *"
   ]
  },
  {
   "cell_type": "code",
   "execution_count": null,
   "metadata": {},
   "outputs": [],
   "source": [
    "experiment_name = 'clfd'\n",
    "acc_thresh_dict={'swept': 70.0, 'frechet': 5.0, 'dtw': 2191}"
   ]
  },
  {
   "cell_type": "markdown",
   "metadata": {},
   "source": [
    "# 1. LASA"
   ]
  },
  {
   "cell_type": "code",
   "execution_count": null,
   "metadata": {},
   "outputs": [],
   "source": [
    "dataset_name = 'lasa'\n",
    "task_names_map_file = 'datasets/LASA/lasa_names.json'\n",
    "num_iters = 15000\n",
    "total_tasks = 26"
   ]
  },
  {
   "cell_type": "markdown",
   "metadata": {},
   "source": [
    "## 1.1 LASA explicit time"
   ]
  },
  {
   "cell_type": "code",
   "execution_count": null,
   "metadata": {},
   "outputs": [],
   "source": [
    "time_input = 'explicit_time'\n",
    "\n",
    "# Create all plots\n",
    "traj_files, log_dirs = create_all_plots(experiment_name,\n",
    "                                        dataset_name,\n",
    "                                        time_input,\n",
    "                                        task_names_map_file,\n",
    "                                        acc_thresh_dict,\n",
    "                                        num_iters,\n",
    "                                        total_tasks,\n",
    "                                        selected_seed_for_traj_plots=800,\n",
    "                                        y_lims_per_task=[(1.5,4.),(-0.2,2.7),(2.5,5.25)],\n",
    "                                        ylims_last_model=[(0.5,4.0),(-0.5,2.5),(2.0,5.0)],\n",
    "                                        final_model_select_task_ids=[1,5,9,13,17,21,25],\n",
    "                                        final_model_select_metric='dtw',\n",
    "                                        figsize_per_task=(20,9),\n",
    "                                        figsize_last_task=(10,6),\n",
    "                                        fontsize_per_task=18,\n",
    "                                        fontsize_last_task=18,\n",
    "                                        fontsize_spider=18,\n",
    "                                        show_traj=True)"
   ]
  },
  {
   "cell_type": "markdown",
   "metadata": {},
   "source": [
    "## 1.2 LASA no time"
   ]
  },
  {
   "cell_type": "code",
   "execution_count": null,
   "metadata": {},
   "outputs": [],
   "source": [
    "time_input = 'no_time'\n",
    "\n",
    "traj_files, log_dirs = create_all_plots(experiment_name,\n",
    "                                        dataset_name,\n",
    "                                        time_input,\n",
    "                                        task_names_map_file,\n",
    "                                        acc_thresh_dict,\n",
    "                                        num_iters,\n",
    "                                        total_tasks,\n",
    "                                        selected_seed_for_traj_plots=800,\n",
    "                                        y_lims_per_task=[(1.05,4.5),(-0.2,3.0),(2.2,5.75)],\n",
    "                                        ylims_last_model=[(0.5,4.0),(-0.5,2.5),(2.0,5.0)],\n",
    "                                        final_model_select_task_ids=[1,5,9,13,17,21,25],\n",
    "                                        final_model_select_metric='dtw',\n",
    "                                        figsize_per_task=(20,9),\n",
    "                                        figsize_last_task=(10,6),\n",
    "                                        fontsize_per_task=18,\n",
    "                                        fontsize_last_task=18,\n",
    "                                        fontsize_spider=18,\n",
    "                                        show_traj=True)"
   ]
  },
  {
   "cell_type": "markdown",
   "metadata": {},
   "source": [
    "# 2. HelloWorld"
   ]
  },
  {
   "cell_type": "code",
   "execution_count": null,
   "metadata": {},
   "outputs": [],
   "source": [
    "from imitation_cl.plot.cl_plots import *\n",
    "\n",
    "from wand.image import Image as WImage\n",
    "from IPython.display import display"
   ]
  },
  {
   "cell_type": "code",
   "execution_count": null,
   "metadata": {},
   "outputs": [],
   "source": [
    "experiment_name = 'clfd'\n",
    "acc_thresh_dict={'swept': 70.0, 'frechet': 5.0, 'dtw': 1821.0}"
   ]
  },
  {
   "cell_type": "code",
   "execution_count": null,
   "metadata": {},
   "outputs": [],
   "source": [
    "dataset_name = 'helloworld'\n",
    "task_names_map_file = 'datasets/robot_hello_world/helloworld_names.json'\n",
    "num_iters = 40000\n",
    "total_tasks = 7"
   ]
  },
  {
   "cell_type": "markdown",
   "metadata": {},
   "source": [
    "## 2.1 HelloWorld explicit time"
   ]
  },
  {
   "cell_type": "code",
   "execution_count": null,
   "metadata": {},
   "outputs": [],
   "source": [
    "time_input = 'explicit_time'\n",
    "\n",
    "traj_files, log_dirs = create_all_plots(experiment_name,\n",
    "                                        dataset_name,\n",
    "                                        time_input,\n",
    "                                        task_names_map_file,\n",
    "                                        acc_thresh_dict,\n",
    "                                        num_iters,\n",
    "                                        total_tasks,\n",
    "                                        selected_seed_for_traj_plots=800,\n",
    "                                        y_lims_per_task=[(0.2,3.0),(-0.6,2.0),(1.5,4.5)],\n",
    "                                        ylims_last_model=[(0.1,6.0),(-0.8,4.0),(1.0,6.0)],\n",
    "                                        final_model_select_task_ids=[0,1,2,3,4,5,6],\n",
    "                                        final_model_select_metric='dtw',\n",
    "                                        figsize_per_task=(20,9),\n",
    "                                        figsize_last_task=(10,6),\n",
    "                                        fontsize_per_task=18,\n",
    "                                        fontsize_last_task=18,\n",
    "                                        fontsize_spider=18,\n",
    "                                        show_traj=True)"
   ]
  },
  {
   "cell_type": "markdown",
   "metadata": {},
   "source": [
    "## 2.2 HelloWorld no time"
   ]
  },
  {
   "cell_type": "code",
   "execution_count": null,
   "metadata": {},
   "outputs": [],
   "source": [
    "time_input = 'no_time'\n",
    "\n",
    "traj_files, log_dirs = create_all_plots(experiment_name,\n",
    "                                        dataset_name,\n",
    "                                        time_input,\n",
    "                                        task_names_map_file,\n",
    "                                        acc_thresh_dict,\n",
    "                                        num_iters,\n",
    "                                        total_tasks,\n",
    "                                        selected_seed_for_traj_plots=800,\n",
    "                                        y_lims_per_task=[(0.2,4.0),(-0.6,2.5),(1.5,5.0)],\n",
    "                                        ylims_last_model=[(0.1,6.0),(-0.8,4.0),(1.0,7.0)],\n",
    "                                        final_model_select_task_ids=[0,1,2,3,4,5,6],\n",
    "                                        figsize_per_task=(20,7),\n",
    "                                        figsize_last_task=(10,5),\n",
    "                                        fontsize_per_task=18,\n",
    "                                        fontsize_last_task=18,\n",
    "                                        fontsize_spider=18,\n",
    "                                        show_traj=True)"
   ]
  }
 ],
 "metadata": {
  "interpreter": {
   "hash": "c8de4a843576b8fc9ae8bec0bf25ed8ead2431bb010e1e8d3b4e9659ceed1229"
  },
  "kernelspec": {
   "display_name": "Python 3.6.7 64-bit ('venv-rl': virtualenv)",
   "name": "python3"
  },
  "language_info": {
   "codemirror_mode": {
    "name": "ipython",
    "version": 3
   },
   "file_extension": ".py",
   "mimetype": "text/x-python",
   "name": "python",
   "nbconvert_exporter": "python",
   "pygments_lexer": "ipython3",
   "version": "3.8.10"
  },
  "orig_nbformat": 4
 },
 "nbformat": 4,
 "nbformat_minor": 2
}
